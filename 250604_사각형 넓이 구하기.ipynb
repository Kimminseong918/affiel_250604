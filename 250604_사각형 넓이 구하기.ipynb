{
 "cells": [
  {
   "cell_type": "code",
   "execution_count": 19,
   "id": "85856c32",
   "metadata": {},
   "outputs": [],
   "source": [
    "#사각형 클래스 만들기\n",
    "class Square:\n",
    "    def __init__ (self):\n",
    "        self.square=int(input('넓이를 구하고 싶은 사각형을 고르시오. \\n 1. 직사각형 2. 평행사변형 3. 사다리꼴 \\n >>>'))\n",
    "        \n",
    "        if self.square==1:\n",
    "            print('직사각형 함수는 rect()입니다.')\n",
    "        elif self.square==2:\n",
    "            print('평행사변형 함수는 par()입니다.')\n",
    "        elif self.square==3:\n",
    "            print('사다리꼴 함수는 trape()입니다.')\n",
    "        else:\n",
    "            print('1, 2, 3 중에서 다시 입력하시오.')\n",
    "            \n",
    "    def rect(self):\n",
    "        width, vertical=map(int, input('가로, 세로를 입력하시오. 예시: 가로,세로\\n >>>').split(','))\n",
    "        area=width*vertical\n",
    "        result='직사각형 넓이: ' + str(area)\n",
    "        return result\n",
    "    def par(self):\n",
    "        lower, height=map(int, input('밑변, 높이를 입력하시오. 예시: 밑변,높이\\n >>>').split(','))\n",
    "        area=lower*height\n",
    "        result='평행사변형 넓이: ' + str(area)\n",
    "        return result\n",
    "    def trape(self):\n",
    "        lower, upper, height=map(int, input('밑변, 윗변, 높이를 입력하시오. 예시: 밑변,윗변,높이\\n >>>').split(','))\n",
    "        area=(lower+upper)*height*0.5\n",
    "        result='사다리꼴 넓이: ' + str(area)\n",
    "        return result"
   ]
  },
  {
   "cell_type": "code",
   "execution_count": 20,
   "id": "b680927d",
   "metadata": {
    "scrolled": true
   },
   "outputs": [
    {
     "name": "stdout",
     "output_type": "stream",
     "text": [
      "넓이를 구하고 싶은 사각형을 고르시오. \n",
      " 1. 직사각형 2. 평행사변형 3. 사다리꼴 \n",
      " >>>1\n",
      "직사각형 함수는 rect()입니다.\n"
     ]
    }
   ],
   "source": [
    "a=Square()"
   ]
  },
  {
   "cell_type": "code",
   "execution_count": 21,
   "id": "2502e2a0",
   "metadata": {},
   "outputs": [
    {
     "name": "stdout",
     "output_type": "stream",
     "text": [
      "가로, 세로를 입력하시오. 예시: 가로,세로\n",
      " >>>3,4\n"
     ]
    },
    {
     "data": {
      "text/plain": [
       "'직사각형 넓이: 12'"
      ]
     },
     "execution_count": 21,
     "metadata": {},
     "output_type": "execute_result"
    }
   ],
   "source": [
    "a.rect()"
   ]
  },
  {
   "cell_type": "code",
   "execution_count": 22,
   "id": "b8b51c46",
   "metadata": {},
   "outputs": [
    {
     "name": "stdout",
     "output_type": "stream",
     "text": [
      "넓이를 구하고 싶은 사각형을 고르시오. \n",
      " 1. 직사각형 2. 평행사변형 3. 사다리꼴 \n",
      " >>>2\n",
      "평행사변형 함수는 par()입니다.\n"
     ]
    }
   ],
   "source": [
    "b=Square()"
   ]
  },
  {
   "cell_type": "code",
   "execution_count": 23,
   "id": "0b379e36",
   "metadata": {},
   "outputs": [
    {
     "name": "stdout",
     "output_type": "stream",
     "text": [
      "밑변, 높이를 입력하시오. 예시: 밑변,높이\n",
      " >>>3,2\n"
     ]
    },
    {
     "data": {
      "text/plain": [
       "'평행사변형 넓이: 6'"
      ]
     },
     "execution_count": 23,
     "metadata": {},
     "output_type": "execute_result"
    }
   ],
   "source": [
    "b.par()"
   ]
  },
  {
   "cell_type": "code",
   "execution_count": 24,
   "id": "31b401ac",
   "metadata": {},
   "outputs": [
    {
     "name": "stdout",
     "output_type": "stream",
     "text": [
      "넓이를 구하고 싶은 사각형을 고르시오. \n",
      " 1. 직사각형 2. 평행사변형 3. 사다리꼴 \n",
      " >>>3\n",
      "사다리꼴 함수는 trape()입니다.\n"
     ]
    }
   ],
   "source": [
    "c=Square()"
   ]
  },
  {
   "cell_type": "code",
   "execution_count": 25,
   "id": "14a9788f",
   "metadata": {},
   "outputs": [
    {
     "name": "stdout",
     "output_type": "stream",
     "text": [
      "밑변, 윗변, 높이를 입력하시오. 예시: 밑변,윗변,높이\n",
      " >>>3,2,1\n"
     ]
    },
    {
     "data": {
      "text/plain": [
       "'사다리꼴 넓이: 2.5'"
      ]
     },
     "execution_count": 25,
     "metadata": {},
     "output_type": "execute_result"
    }
   ],
   "source": [
    " c.trape()"
   ]
  },
  {
   "cell_type": "code",
   "execution_count": 31,
   "id": "735cf642",
   "metadata": {},
   "outputs": [],
   "source": [
    "#도형 추가\n",
    "\n",
    "import math\n",
    "\n",
    "class Square:\n",
    "    def __init__ (self):\n",
    "        self.square = int(input('넓이를 구하고 싶은 도형을 고르시오. \\n 1. 직사각형 2. 평행사변형 3. 사다리꼴 4. 마름모 5. 원 6. 원뿔 \\n >>>'))\n",
    "        \n",
    "        if self.square == 1:\n",
    "            print('직사각형 함수는 rect()입니다.')\n",
    "        elif self.square == 2:\n",
    "            print('평행사변형 함수는 par()입니다.')\n",
    "        elif self.square == 3:\n",
    "            print('사다리꼴 함수는 trape()입니다.')\n",
    "        elif self.square == 4:\n",
    "            print('마름모 함수는 rho()입니다.')\n",
    "        elif self.square == 5:\n",
    "            print('원 함수는 circle()입니다.')\n",
    "        elif self.square == 6:\n",
    "            print('원뿔 함수는 cone()입니다.')\n",
    "        else:\n",
    "            print('예시 중에서 다시 입력하시오.')\n",
    "            \n",
    "    def rect(self):\n",
    "        width, vertical = map(int, input('가로, 세로를 입력하시오. 예시: 가로,세로\\n >>>').split(','))\n",
    "        area = width * vertical\n",
    "        result = '직사각형 넓이: ' + str(area)\n",
    "        return result\n",
    "    def par(self):\n",
    "        lower, height = map(int, input('밑변, 높이를 입력하시오. 예시: 밑변,높이\\n >>>').split(','))\n",
    "        area = lower * height\n",
    "        result = '평행사변형 넓이: ' + str(area)\n",
    "        return result\n",
    "    def trape(self):\n",
    "        lower, upper, height = map(int, input('밑변, 윗변, 높이를 입력하시오. 예시: 밑변,윗변,높이\\n >>>').split(','))\n",
    "        area = (lower + upper) * height * 0.5\n",
    "        result = '사다리꼴 넓이: ' + str(area)\n",
    "        return result\n",
    "    def rho(self):\n",
    "        d1, d2 = map(int, input('두 대각선의 길이를 입력하시오. 예시: 대각선1,대각선2\\n>>>').split(','))\n",
    "        area = 0.5 * d1 * d2\n",
    "        result = '마름모 넓이: ' + str(area)\n",
    "        return result\n",
    "    def circle(self):\n",
    "        r = float(input('반지름을 입력하시오.\\n>>>'))\n",
    "        area = math.pi * r * r\n",
    "        result = '원 넓이: ' + str(area)\n",
    "        return result\n",
    "    def cone(self):\n",
    "        r, h, l = map(float, input('밑면 반지름, 높이, 모선의 길이를 입력하시오. 예시: 밑면 반지름,높이,모선의 길이\\n>>>').split(','))\n",
    "        area = math.pi * r * (r + l)\n",
    "        volume = (1/3) * math.pi * r * r * h"
   ]
  },
  {
   "cell_type": "code",
   "execution_count": 32,
   "id": "76841e8f",
   "metadata": {},
   "outputs": [
    {
     "name": "stdout",
     "output_type": "stream",
     "text": [
      "넓이를 구하고 싶은 도형을 고르시오. \n",
      " 1. 직사각형 2. 평행사변형 3. 사다리꼴 4. 마름모 5. 원 6. 원뿔 \n",
      " >>>5\n",
      "원 함수는 circle()입니다.\n"
     ]
    }
   ],
   "source": [
    "z=Square()"
   ]
  },
  {
   "cell_type": "code",
   "execution_count": 33,
   "id": "e232d787",
   "metadata": {},
   "outputs": [
    {
     "name": "stdout",
     "output_type": "stream",
     "text": [
      "반지름을 입력하시오.\n",
      ">>>5\n"
     ]
    },
    {
     "data": {
      "text/plain": [
       "'원 넓이: 78.53981633974483'"
      ]
     },
     "execution_count": 33,
     "metadata": {},
     "output_type": "execute_result"
    }
   ],
   "source": [
    "z.circle()"
   ]
  },
  {
   "cell_type": "code",
   "execution_count": null,
   "id": "5dbfc3e8",
   "metadata": {},
   "outputs": [],
   "source": []
  }
 ],
 "metadata": {
  "kernelspec": {
   "display_name": "Python 3 (ipykernel)",
   "language": "python",
   "name": "python3"
  },
  "language_info": {
   "codemirror_mode": {
    "name": "ipython",
    "version": 3
   },
   "file_extension": ".py",
   "mimetype": "text/x-python",
   "name": "python",
   "nbconvert_exporter": "python",
   "pygments_lexer": "ipython3",
   "version": "3.9.7"
  }
 },
 "nbformat": 4,
 "nbformat_minor": 5
}
